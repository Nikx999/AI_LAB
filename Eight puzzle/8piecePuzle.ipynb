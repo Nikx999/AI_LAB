{
 "cells": [
  {
   "cell_type": "code",
   "execution_count": 4,
   "metadata": {},
   "outputs": [
    {
     "data": {
      "text/plain": [
       "True"
      ]
     },
     "execution_count": 4,
     "metadata": {},
     "output_type": "execute_result"
    }
   ],
   "source": [
    "def dfs(src,target,limit,visited_states):\n",
    "    \n",
    "    if src==target:\n",
    "        return True\n",
    "    \n",
    "    if limit<=0:\n",
    "        return False\n",
    "    \n",
    "    visited_states.append(src)\n",
    "    adj = possible_moves(src,visited_states)\n",
    "    \n",
    "    for move in adj:\n",
    "        if dfs(move,target,limit-1,visited_states):\n",
    "            return True\n",
    "    return False\n",
    "\n",
    "def possible_moves(state,visited_states): \n",
    "    \n",
    "    ind = state.index(-1)  \n",
    "    \n",
    "    d = []\n",
    "                                        \n",
    "    if ind+3 in range(9):\n",
    "        d.append('d')\n",
    "    if ind-3 in range(9):\n",
    "        d.append('u')\n",
    "    if ind not in [0,3,6]:\n",
    "        d.append('l')\n",
    "    if ind not in [2,5,8]:\n",
    "        d.append('r')\n",
    "    \n",
    "    pos_moves = []\n",
    "\n",
    "    for move in d:\n",
    "        pos_moves.append(gen(state,move,ind))\n",
    "        \n",
    "    return [move for move in pos_moves if move not in visited_states]\n",
    "\n",
    "def gen(state, m, b): \n",
    "\n",
    "    temp = state.copy()                            \n",
    "        \n",
    "    if m=='d':\n",
    "        a = temp[b+3]\n",
    "        temp[b+3]=temp[b]\n",
    "        temp[b]=a\n",
    "    elif m=='u':\n",
    "        a = temp[b-3]\n",
    "        temp[b-3]=temp[b]\n",
    "        temp[b]=a\n",
    "    elif m=='l':\n",
    "        a = temp[b-1]\n",
    "        temp[b-1]=temp[b]\n",
    "        temp[b]=a\n",
    "    elif m=='r':\n",
    "        a = temp[b+1]\n",
    "        temp[b+1]=temp[b]\n",
    "        temp[b]=a\n",
    "    \n",
    "    return temp\n",
    "\n",
    "def iddfs(src,target,depth):\n",
    "    visited_states = []\n",
    "    for i in range(1, depth+1):\n",
    "        if dfs(src, target, i, visited_states): \n",
    "            return True\n",
    "    return False\n",
    "\n",
    "\n",
    "#Test 1\n",
    "src = [1,2,3,-1,4,5,6,7,8]\n",
    "target = [1,2,3,4,-1,5,6,7,8]           \n",
    "depth = 4\n",
    "\n",
    "iddfs(src, target, depth) # Minimum depth should be 2"
   ]
  },
  {
   "cell_type": "code",
   "execution_count": null,
   "metadata": {},
   "outputs": [],
   "source": []
  }
 ],
 "metadata": {
  "kernelspec": {
   "display_name": "Python 3",
   "language": "python",
   "name": "python3"
  },
  "language_info": {
   "codemirror_mode": {
    "name": "ipython",
    "version": 3
   },
   "file_extension": ".py",
   "mimetype": "text/x-python",
   "name": "python",
   "nbconvert_exporter": "python",
   "pygments_lexer": "ipython3",
   "version": "3.7.3"
  }
 },
 "nbformat": 4,
 "nbformat_minor": 2
}
